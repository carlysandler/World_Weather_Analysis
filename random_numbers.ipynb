{
 "cells": [
  {
   "cell_type": "code",
   "execution_count": 1,
   "id": "built-cooler",
   "metadata": {},
   "outputs": [],
   "source": [
    "# Import the random module.\n",
    "import random"
   ]
  },
  {
   "cell_type": "code",
   "execution_count": 2,
   "id": "hollywood-tyler",
   "metadata": {},
   "outputs": [
    {
     "data": {
      "text/plain": [
       "35"
      ]
     },
     "execution_count": 2,
     "metadata": {},
     "output_type": "execute_result"
    }
   ],
   "source": [
    "random.randint(-90, 90)"
   ]
  },
  {
   "cell_type": "code",
   "execution_count": 3,
   "id": "chubby-costa",
   "metadata": {},
   "outputs": [
    {
     "data": {
      "text/plain": [
       "0.6455197802563155"
      ]
     },
     "execution_count": 3,
     "metadata": {},
     "output_type": "execute_result"
    }
   ],
   "source": [
    "random.random()"
   ]
  },
  {
   "cell_type": "code",
   "execution_count": 4,
   "id": "transsexual-rebate",
   "metadata": {},
   "outputs": [
    {
     "data": {
      "text/plain": [
       "-25.86411616382853"
      ]
     },
     "execution_count": 4,
     "metadata": {},
     "output_type": "execute_result"
    }
   ],
   "source": [
    "random_number = random.randint(-90, 89) + random.random()\n",
    "random_number"
   ]
  },
  {
   "cell_type": "code",
   "execution_count": 5,
   "id": "agreed-productivity",
   "metadata": {},
   "outputs": [
    {
     "name": "stdout",
     "output_type": "stream",
     "text": [
      "[53.893976125244926, -6.465138589489581, 64.63686378680359, -40.975006129322765, -33.31210639729805, -60.81099120823053, -84.84482825188735, -68.04883175198516, 42.5867794173145, -79.62079924526338]\n"
     ]
    }
   ],
   "source": [
    "x = 1\n",
    "latitudes = []\n",
    "while x < 11:\n",
    "    random_lat = random.randint(-90, 89) + random.random()\n",
    "    latitudes.append(random_lat)\n",
    "    x += 1\n",
    "print(latitudes)"
   ]
  },
  {
   "cell_type": "code",
   "execution_count": 6,
   "id": "commercial-advantage",
   "metadata": {},
   "outputs": [
    {
     "data": {
      "text/plain": [
       "64"
      ]
     },
     "execution_count": 6,
     "metadata": {},
     "output_type": "execute_result"
    }
   ],
   "source": [
    "random.randrange(-90, 90, step=1)"
   ]
  },
  {
   "cell_type": "code",
   "execution_count": 7,
   "id": "cardiac-summary",
   "metadata": {},
   "outputs": [
    {
     "data": {
      "text/plain": [
       "69"
      ]
     },
     "execution_count": 7,
     "metadata": {},
     "output_type": "execute_result"
    }
   ],
   "source": [
    "random.randrange(-90, 90, step=3)"
   ]
  },
  {
   "cell_type": "code",
   "execution_count": 8,
   "id": "raised-repository",
   "metadata": {},
   "outputs": [
    {
     "data": {
      "text/plain": [
       "18.271803661152674"
      ]
     },
     "execution_count": 8,
     "metadata": {},
     "output_type": "execute_result"
    }
   ],
   "source": [
    "random.uniform(-90, 90)"
   ]
  },
  {
   "cell_type": "code",
   "execution_count": 9,
   "id": "european-silver",
   "metadata": {},
   "outputs": [],
   "source": [
    "# Import the Numpy module.\n",
    "## NumPy module has a built-in random module, and supplements the built-in Python random module.\n",
    "import numpy as np"
   ]
  },
  {
   "cell_type": "code",
   "execution_count": 10,
   "id": "distinct-shark",
   "metadata": {},
   "outputs": [
    {
     "data": {
      "text/plain": [
       "-1.6949335468280537"
      ]
     },
     "execution_count": 10,
     "metadata": {},
     "output_type": "execute_result"
    }
   ],
   "source": [
    "# Generate a floating-point decimal number between –90.000 and 90.000.\n",
    "np.random.uniform(-90.000, 90.000)"
   ]
  },
  {
   "cell_type": "code",
   "execution_count": 11,
   "id": "statistical-digest",
   "metadata": {},
   "outputs": [
    {
     "data": {
      "text/plain": [
       "-69.87770049104522"
      ]
     },
     "execution_count": 11,
     "metadata": {},
     "output_type": "execute_result"
    }
   ],
   "source": [
    "np.random.uniform(low=-90, high=90)"
   ]
  },
  {
   "cell_type": "code",
   "execution_count": 12,
   "id": "challenging-butterfly",
   "metadata": {},
   "outputs": [
    {
     "data": {
      "text/plain": [
       "array([-81.60503539,  72.07222948, -80.40259288,  10.92614843,\n",
       "       -81.3601096 ,  -2.81741552,  74.28523935,  76.39979624,\n",
       "        41.91427961,  11.87820033, -18.88324052,  34.28726123,\n",
       "       -16.25176545,  60.21274529,  16.15057471, -35.87219034,\n",
       "        -8.39049113, -89.12031947,  -1.63351895, -35.10646974,\n",
       "       -38.5248875 ,  31.07293525,  11.8218887 , -20.11976343,\n",
       "        88.67612197,  29.00439987, -77.12043713,  -2.6239637 ,\n",
       "        75.04993203, -17.70386204,  45.50325269,  13.10627906,\n",
       "        40.39572496,  59.39431917, -60.9188601 , -22.63978507,\n",
       "        57.19523747, -29.78155832, -11.70993445, -75.14260575,\n",
       "        44.51519912, -36.73433991,   3.01030473,  47.49307181,\n",
       "        55.6783066 ,  -3.71386394,  64.08026897, -39.86807931,\n",
       "       -20.97360816, -63.33100299])"
      ]
     },
     "execution_count": 12,
     "metadata": {},
     "output_type": "execute_result"
    }
   ],
   "source": [
    "# Add the size module to generate more than one float.\n",
    "np.random.uniform(low=-90, high=90, size=50)"
   ]
  },
  {
   "cell_type": "code",
   "execution_count": 13,
   "id": "informed-worcester",
   "metadata": {},
   "outputs": [],
   "source": [
    "# Import timeit to test how long a piece of code takes to run.\n",
    "import timeit"
   ]
  },
  {
   "cell_type": "code",
   "execution_count": 14,
   "id": "elder-armor",
   "metadata": {},
   "outputs": [
    {
     "name": "stdout",
     "output_type": "stream",
     "text": [
      "43.7 µs ± 16.7 µs per loop (mean ± std. dev. of 7 runs, 10000 loops each)\n"
     ]
    }
   ],
   "source": [
    "# Add timit magic command before np.random.uniform()\n",
    "%timeit np.random.uniform(-90.000, 90.000, size=1500)"
   ]
  },
  {
   "cell_type": "code",
   "execution_count": 15,
   "id": "purple-adult",
   "metadata": {},
   "outputs": [
    {
     "name": "stdout",
     "output_type": "stream",
     "text": [
      "6.33 ms ± 525 µs per loop (mean ± std. dev. of 7 runs, 100 loops each)\n"
     ]
    }
   ],
   "source": [
    "def latitudes(size):\n",
    "    latitudes = []\n",
    "    x = 0\n",
    "    while x < (size):\n",
    "        random_lat = random.randint(-90, 90) + random.random()\n",
    "        latitudes.append(random_lat)\n",
    "        x += 1\n",
    "    return latitudes\n",
    "# Call the function with 1500.\n",
    "%timeit latitudes(1500)"
   ]
  },
  {
   "cell_type": "code",
   "execution_count": 16,
   "id": "following-stable",
   "metadata": {},
   "outputs": [],
   "source": [
    "# Using the np.random.uniform(-90.000, 90.000, size=1500) is 100 times faster than using the function, and our code is one line, whereas the function uses eight lines!"
   ]
  },
  {
   "cell_type": "code",
   "execution_count": 34,
   "id": "equipped-trading",
   "metadata": {},
   "outputs": [],
   "source": [
    "# Skill Drill: Refactor the code for the while loop with the %timeit magic command\n",
    "# and write a for loop that will generate the 1,500 latitudes.\n"
   ]
  },
  {
   "cell_type": "code",
   "execution_count": null,
   "id": "linear-cooperation",
   "metadata": {},
   "outputs": [],
   "source": []
  }
 ],
 "metadata": {
  "kernelspec": {
   "display_name": "PythonData",
   "language": "python",
   "name": "pythondata"
  },
  "language_info": {
   "codemirror_mode": {
    "name": "ipython",
    "version": 3
   },
   "file_extension": ".py",
   "mimetype": "text/x-python",
   "name": "python",
   "nbconvert_exporter": "python",
   "pygments_lexer": "ipython3",
   "version": "3.9.2"
  }
 },
 "nbformat": 4,
 "nbformat_minor": 5
}
